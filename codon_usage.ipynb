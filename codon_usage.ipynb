{
  "nbformat": 4,
  "nbformat_minor": 0,
  "metadata": {
    "colab": {
      "provenance": [],
      "authorship_tag": "ABX9TyNRrIxX8i0AFlQRu9kEXr97",
      "include_colab_link": true
    },
    "kernelspec": {
      "name": "python3",
      "display_name": "Python 3"
    },
    "language_info": {
      "name": "python"
    }
  },
  "cells": [
    {
      "cell_type": "markdown",
      "metadata": {
        "id": "view-in-github",
        "colab_type": "text"
      },
      "source": [
        "<a href=\"https://colab.research.google.com/github/cod3astro/ML_practice/blob/main/codon_usage.ipynb\" target=\"_parent\"><img src=\"https://colab.research.google.com/assets/colab-badge.svg\" alt=\"Open In Colab\"/></a>"
      ]
    },
    {
      "cell_type": "code",
      "execution_count": 76,
      "metadata": {
        "id": "L9EbUHrG2sQh"
      },
      "outputs": [],
      "source": [
        "import pandas as pd\n",
        "import numpy as np\n",
        "import matplotlib.pyplot as plt\n",
        "import seaborn as sns\n",
        "import joblib"
      ]
    },
    {
      "cell_type": "code",
      "source": [
        "df = pd.read_csv('codon_usage.csv', index_col='SpeciesID')\n",
        "df.drop_duplicates(inplace=True)\n",
        "df.head()"
      ],
      "metadata": {
        "colab": {
          "base_uri": "https://localhost:8080/",
          "height": 391
        },
        "id": "y9QWhqdF3H7Y",
        "outputId": "9915280f-d9fc-4a64-fba2-939062ae439c"
      },
      "execution_count": 77,
      "outputs": [
        {
          "output_type": "execute_result",
          "data": {
            "text/plain": [
              "          Kingdom  DNAtype  Ncodons                              SpeciesName  \\\n",
              "SpeciesID                                                                      \n",
              "100217        vrl        0     1995  Epizootic haematopoietic necrosis virus   \n",
              "100220        vrl        0     1474                         Bohle iridovirus   \n",
              "100755        vrl        0     4862             Sweet potato leaf curl virus   \n",
              "100880        vrl        0     1915             Northern cereal mosaic virus   \n",
              "100887        vrl        0    22831           Soil-borne cereal mosaic virus   \n",
              "\n",
              "               UUU      UUC      UUA      UUG      CUU      CUC  ...      CGG  \\\n",
              "SpeciesID                                                        ...            \n",
              "100217     0.01654  0.01203  0.00050  0.00351  0.01203  0.03208  ...  0.00451   \n",
              "100220     0.02714  0.01357  0.00068  0.00678  0.00407  0.02849  ...  0.00136   \n",
              "100755     0.01974   0.0218  0.01357  0.01543  0.00782  0.01111  ...  0.00596   \n",
              "100880     0.01775  0.02245  0.01619  0.00992  0.01567  0.01358  ...  0.00366   \n",
              "100887     0.02816  0.01371  0.00767  0.03679  0.01380  0.00548  ...  0.00604   \n",
              "\n",
              "               AGA      AGG      GAU      GAC      GAA      GAG      UAA  \\\n",
              "SpeciesID                                                                  \n",
              "100217     0.01303  0.03559  0.01003  0.04612  0.01203  0.04361  0.00251   \n",
              "100220     0.01696  0.03596  0.01221  0.04545  0.01560  0.04410  0.00271   \n",
              "100755     0.01974  0.02489  0.03126  0.02036  0.02242  0.02468  0.00391   \n",
              "100880     0.01410  0.01671  0.03760  0.01932  0.03029  0.03446  0.00261   \n",
              "100887     0.01494  0.01734  0.04148  0.02483  0.03359  0.03679  0.00000   \n",
              "\n",
              "               UAG      UGA  \n",
              "SpeciesID                    \n",
              "100217     0.00050  0.00000  \n",
              "100220     0.00068  0.00000  \n",
              "100755     0.00000  0.00144  \n",
              "100880     0.00157  0.00000  \n",
              "100887     0.00044  0.00131  \n",
              "\n",
              "[5 rows x 68 columns]"
            ],
            "text/html": [
              "\n",
              "  <div id=\"df-9c4a3b64-cef9-49a7-9cb4-885c8fb64179\" class=\"colab-df-container\">\n",
              "    <div>\n",
              "<style scoped>\n",
              "    .dataframe tbody tr th:only-of-type {\n",
              "        vertical-align: middle;\n",
              "    }\n",
              "\n",
              "    .dataframe tbody tr th {\n",
              "        vertical-align: top;\n",
              "    }\n",
              "\n",
              "    .dataframe thead th {\n",
              "        text-align: right;\n",
              "    }\n",
              "</style>\n",
              "<table border=\"1\" class=\"dataframe\">\n",
              "  <thead>\n",
              "    <tr style=\"text-align: right;\">\n",
              "      <th></th>\n",
              "      <th>Kingdom</th>\n",
              "      <th>DNAtype</th>\n",
              "      <th>Ncodons</th>\n",
              "      <th>SpeciesName</th>\n",
              "      <th>UUU</th>\n",
              "      <th>UUC</th>\n",
              "      <th>UUA</th>\n",
              "      <th>UUG</th>\n",
              "      <th>CUU</th>\n",
              "      <th>CUC</th>\n",
              "      <th>...</th>\n",
              "      <th>CGG</th>\n",
              "      <th>AGA</th>\n",
              "      <th>AGG</th>\n",
              "      <th>GAU</th>\n",
              "      <th>GAC</th>\n",
              "      <th>GAA</th>\n",
              "      <th>GAG</th>\n",
              "      <th>UAA</th>\n",
              "      <th>UAG</th>\n",
              "      <th>UGA</th>\n",
              "    </tr>\n",
              "    <tr>\n",
              "      <th>SpeciesID</th>\n",
              "      <th></th>\n",
              "      <th></th>\n",
              "      <th></th>\n",
              "      <th></th>\n",
              "      <th></th>\n",
              "      <th></th>\n",
              "      <th></th>\n",
              "      <th></th>\n",
              "      <th></th>\n",
              "      <th></th>\n",
              "      <th></th>\n",
              "      <th></th>\n",
              "      <th></th>\n",
              "      <th></th>\n",
              "      <th></th>\n",
              "      <th></th>\n",
              "      <th></th>\n",
              "      <th></th>\n",
              "      <th></th>\n",
              "      <th></th>\n",
              "      <th></th>\n",
              "    </tr>\n",
              "  </thead>\n",
              "  <tbody>\n",
              "    <tr>\n",
              "      <th>100217</th>\n",
              "      <td>vrl</td>\n",
              "      <td>0</td>\n",
              "      <td>1995</td>\n",
              "      <td>Epizootic haematopoietic necrosis virus</td>\n",
              "      <td>0.01654</td>\n",
              "      <td>0.01203</td>\n",
              "      <td>0.00050</td>\n",
              "      <td>0.00351</td>\n",
              "      <td>0.01203</td>\n",
              "      <td>0.03208</td>\n",
              "      <td>...</td>\n",
              "      <td>0.00451</td>\n",
              "      <td>0.01303</td>\n",
              "      <td>0.03559</td>\n",
              "      <td>0.01003</td>\n",
              "      <td>0.04612</td>\n",
              "      <td>0.01203</td>\n",
              "      <td>0.04361</td>\n",
              "      <td>0.00251</td>\n",
              "      <td>0.00050</td>\n",
              "      <td>0.00000</td>\n",
              "    </tr>\n",
              "    <tr>\n",
              "      <th>100220</th>\n",
              "      <td>vrl</td>\n",
              "      <td>0</td>\n",
              "      <td>1474</td>\n",
              "      <td>Bohle iridovirus</td>\n",
              "      <td>0.02714</td>\n",
              "      <td>0.01357</td>\n",
              "      <td>0.00068</td>\n",
              "      <td>0.00678</td>\n",
              "      <td>0.00407</td>\n",
              "      <td>0.02849</td>\n",
              "      <td>...</td>\n",
              "      <td>0.00136</td>\n",
              "      <td>0.01696</td>\n",
              "      <td>0.03596</td>\n",
              "      <td>0.01221</td>\n",
              "      <td>0.04545</td>\n",
              "      <td>0.01560</td>\n",
              "      <td>0.04410</td>\n",
              "      <td>0.00271</td>\n",
              "      <td>0.00068</td>\n",
              "      <td>0.00000</td>\n",
              "    </tr>\n",
              "    <tr>\n",
              "      <th>100755</th>\n",
              "      <td>vrl</td>\n",
              "      <td>0</td>\n",
              "      <td>4862</td>\n",
              "      <td>Sweet potato leaf curl virus</td>\n",
              "      <td>0.01974</td>\n",
              "      <td>0.0218</td>\n",
              "      <td>0.01357</td>\n",
              "      <td>0.01543</td>\n",
              "      <td>0.00782</td>\n",
              "      <td>0.01111</td>\n",
              "      <td>...</td>\n",
              "      <td>0.00596</td>\n",
              "      <td>0.01974</td>\n",
              "      <td>0.02489</td>\n",
              "      <td>0.03126</td>\n",
              "      <td>0.02036</td>\n",
              "      <td>0.02242</td>\n",
              "      <td>0.02468</td>\n",
              "      <td>0.00391</td>\n",
              "      <td>0.00000</td>\n",
              "      <td>0.00144</td>\n",
              "    </tr>\n",
              "    <tr>\n",
              "      <th>100880</th>\n",
              "      <td>vrl</td>\n",
              "      <td>0</td>\n",
              "      <td>1915</td>\n",
              "      <td>Northern cereal mosaic virus</td>\n",
              "      <td>0.01775</td>\n",
              "      <td>0.02245</td>\n",
              "      <td>0.01619</td>\n",
              "      <td>0.00992</td>\n",
              "      <td>0.01567</td>\n",
              "      <td>0.01358</td>\n",
              "      <td>...</td>\n",
              "      <td>0.00366</td>\n",
              "      <td>0.01410</td>\n",
              "      <td>0.01671</td>\n",
              "      <td>0.03760</td>\n",
              "      <td>0.01932</td>\n",
              "      <td>0.03029</td>\n",
              "      <td>0.03446</td>\n",
              "      <td>0.00261</td>\n",
              "      <td>0.00157</td>\n",
              "      <td>0.00000</td>\n",
              "    </tr>\n",
              "    <tr>\n",
              "      <th>100887</th>\n",
              "      <td>vrl</td>\n",
              "      <td>0</td>\n",
              "      <td>22831</td>\n",
              "      <td>Soil-borne cereal mosaic virus</td>\n",
              "      <td>0.02816</td>\n",
              "      <td>0.01371</td>\n",
              "      <td>0.00767</td>\n",
              "      <td>0.03679</td>\n",
              "      <td>0.01380</td>\n",
              "      <td>0.00548</td>\n",
              "      <td>...</td>\n",
              "      <td>0.00604</td>\n",
              "      <td>0.01494</td>\n",
              "      <td>0.01734</td>\n",
              "      <td>0.04148</td>\n",
              "      <td>0.02483</td>\n",
              "      <td>0.03359</td>\n",
              "      <td>0.03679</td>\n",
              "      <td>0.00000</td>\n",
              "      <td>0.00044</td>\n",
              "      <td>0.00131</td>\n",
              "    </tr>\n",
              "  </tbody>\n",
              "</table>\n",
              "<p>5 rows × 68 columns</p>\n",
              "</div>\n",
              "    <div class=\"colab-df-buttons\">\n",
              "\n",
              "  <div class=\"colab-df-container\">\n",
              "    <button class=\"colab-df-convert\" onclick=\"convertToInteractive('df-9c4a3b64-cef9-49a7-9cb4-885c8fb64179')\"\n",
              "            title=\"Convert this dataframe to an interactive table.\"\n",
              "            style=\"display:none;\">\n",
              "\n",
              "  <svg xmlns=\"http://www.w3.org/2000/svg\" height=\"24px\" viewBox=\"0 -960 960 960\">\n",
              "    <path d=\"M120-120v-720h720v720H120Zm60-500h600v-160H180v160Zm220 220h160v-160H400v160Zm0 220h160v-160H400v160ZM180-400h160v-160H180v160Zm440 0h160v-160H620v160ZM180-180h160v-160H180v160Zm440 0h160v-160H620v160Z\"/>\n",
              "  </svg>\n",
              "    </button>\n",
              "\n",
              "  <style>\n",
              "    .colab-df-container {\n",
              "      display:flex;\n",
              "      gap: 12px;\n",
              "    }\n",
              "\n",
              "    .colab-df-convert {\n",
              "      background-color: #E8F0FE;\n",
              "      border: none;\n",
              "      border-radius: 50%;\n",
              "      cursor: pointer;\n",
              "      display: none;\n",
              "      fill: #1967D2;\n",
              "      height: 32px;\n",
              "      padding: 0 0 0 0;\n",
              "      width: 32px;\n",
              "    }\n",
              "\n",
              "    .colab-df-convert:hover {\n",
              "      background-color: #E2EBFA;\n",
              "      box-shadow: 0px 1px 2px rgba(60, 64, 67, 0.3), 0px 1px 3px 1px rgba(60, 64, 67, 0.15);\n",
              "      fill: #174EA6;\n",
              "    }\n",
              "\n",
              "    .colab-df-buttons div {\n",
              "      margin-bottom: 4px;\n",
              "    }\n",
              "\n",
              "    [theme=dark] .colab-df-convert {\n",
              "      background-color: #3B4455;\n",
              "      fill: #D2E3FC;\n",
              "    }\n",
              "\n",
              "    [theme=dark] .colab-df-convert:hover {\n",
              "      background-color: #434B5C;\n",
              "      box-shadow: 0px 1px 3px 1px rgba(0, 0, 0, 0.15);\n",
              "      filter: drop-shadow(0px 1px 2px rgba(0, 0, 0, 0.3));\n",
              "      fill: #FFFFFF;\n",
              "    }\n",
              "  </style>\n",
              "\n",
              "    <script>\n",
              "      const buttonEl =\n",
              "        document.querySelector('#df-9c4a3b64-cef9-49a7-9cb4-885c8fb64179 button.colab-df-convert');\n",
              "      buttonEl.style.display =\n",
              "        google.colab.kernel.accessAllowed ? 'block' : 'none';\n",
              "\n",
              "      async function convertToInteractive(key) {\n",
              "        const element = document.querySelector('#df-9c4a3b64-cef9-49a7-9cb4-885c8fb64179');\n",
              "        const dataTable =\n",
              "          await google.colab.kernel.invokeFunction('convertToInteractive',\n",
              "                                                    [key], {});\n",
              "        if (!dataTable) return;\n",
              "\n",
              "        const docLinkHtml = 'Like what you see? Visit the ' +\n",
              "          '<a target=\"_blank\" href=https://colab.research.google.com/notebooks/data_table.ipynb>data table notebook</a>'\n",
              "          + ' to learn more about interactive tables.';\n",
              "        element.innerHTML = '';\n",
              "        dataTable['output_type'] = 'display_data';\n",
              "        await google.colab.output.renderOutput(dataTable, element);\n",
              "        const docLink = document.createElement('div');\n",
              "        docLink.innerHTML = docLinkHtml;\n",
              "        element.appendChild(docLink);\n",
              "      }\n",
              "    </script>\n",
              "  </div>\n",
              "\n",
              "\n",
              "    <div id=\"df-a14c76d8-1600-4824-8a54-1925d3f75acf\">\n",
              "      <button class=\"colab-df-quickchart\" onclick=\"quickchart('df-a14c76d8-1600-4824-8a54-1925d3f75acf')\"\n",
              "                title=\"Suggest charts\"\n",
              "                style=\"display:none;\">\n",
              "\n",
              "<svg xmlns=\"http://www.w3.org/2000/svg\" height=\"24px\"viewBox=\"0 0 24 24\"\n",
              "     width=\"24px\">\n",
              "    <g>\n",
              "        <path d=\"M19 3H5c-1.1 0-2 .9-2 2v14c0 1.1.9 2 2 2h14c1.1 0 2-.9 2-2V5c0-1.1-.9-2-2-2zM9 17H7v-7h2v7zm4 0h-2V7h2v10zm4 0h-2v-4h2v4z\"/>\n",
              "    </g>\n",
              "</svg>\n",
              "      </button>\n",
              "\n",
              "<style>\n",
              "  .colab-df-quickchart {\n",
              "      --bg-color: #E8F0FE;\n",
              "      --fill-color: #1967D2;\n",
              "      --hover-bg-color: #E2EBFA;\n",
              "      --hover-fill-color: #174EA6;\n",
              "      --disabled-fill-color: #AAA;\n",
              "      --disabled-bg-color: #DDD;\n",
              "  }\n",
              "\n",
              "  [theme=dark] .colab-df-quickchart {\n",
              "      --bg-color: #3B4455;\n",
              "      --fill-color: #D2E3FC;\n",
              "      --hover-bg-color: #434B5C;\n",
              "      --hover-fill-color: #FFFFFF;\n",
              "      --disabled-bg-color: #3B4455;\n",
              "      --disabled-fill-color: #666;\n",
              "  }\n",
              "\n",
              "  .colab-df-quickchart {\n",
              "    background-color: var(--bg-color);\n",
              "    border: none;\n",
              "    border-radius: 50%;\n",
              "    cursor: pointer;\n",
              "    display: none;\n",
              "    fill: var(--fill-color);\n",
              "    height: 32px;\n",
              "    padding: 0;\n",
              "    width: 32px;\n",
              "  }\n",
              "\n",
              "  .colab-df-quickchart:hover {\n",
              "    background-color: var(--hover-bg-color);\n",
              "    box-shadow: 0 1px 2px rgba(60, 64, 67, 0.3), 0 1px 3px 1px rgba(60, 64, 67, 0.15);\n",
              "    fill: var(--button-hover-fill-color);\n",
              "  }\n",
              "\n",
              "  .colab-df-quickchart-complete:disabled,\n",
              "  .colab-df-quickchart-complete:disabled:hover {\n",
              "    background-color: var(--disabled-bg-color);\n",
              "    fill: var(--disabled-fill-color);\n",
              "    box-shadow: none;\n",
              "  }\n",
              "\n",
              "  .colab-df-spinner {\n",
              "    border: 2px solid var(--fill-color);\n",
              "    border-color: transparent;\n",
              "    border-bottom-color: var(--fill-color);\n",
              "    animation:\n",
              "      spin 1s steps(1) infinite;\n",
              "  }\n",
              "\n",
              "  @keyframes spin {\n",
              "    0% {\n",
              "      border-color: transparent;\n",
              "      border-bottom-color: var(--fill-color);\n",
              "      border-left-color: var(--fill-color);\n",
              "    }\n",
              "    20% {\n",
              "      border-color: transparent;\n",
              "      border-left-color: var(--fill-color);\n",
              "      border-top-color: var(--fill-color);\n",
              "    }\n",
              "    30% {\n",
              "      border-color: transparent;\n",
              "      border-left-color: var(--fill-color);\n",
              "      border-top-color: var(--fill-color);\n",
              "      border-right-color: var(--fill-color);\n",
              "    }\n",
              "    40% {\n",
              "      border-color: transparent;\n",
              "      border-right-color: var(--fill-color);\n",
              "      border-top-color: var(--fill-color);\n",
              "    }\n",
              "    60% {\n",
              "      border-color: transparent;\n",
              "      border-right-color: var(--fill-color);\n",
              "    }\n",
              "    80% {\n",
              "      border-color: transparent;\n",
              "      border-right-color: var(--fill-color);\n",
              "      border-bottom-color: var(--fill-color);\n",
              "    }\n",
              "    90% {\n",
              "      border-color: transparent;\n",
              "      border-bottom-color: var(--fill-color);\n",
              "    }\n",
              "  }\n",
              "</style>\n",
              "\n",
              "      <script>\n",
              "        async function quickchart(key) {\n",
              "          const quickchartButtonEl =\n",
              "            document.querySelector('#' + key + ' button');\n",
              "          quickchartButtonEl.disabled = true;  // To prevent multiple clicks.\n",
              "          quickchartButtonEl.classList.add('colab-df-spinner');\n",
              "          try {\n",
              "            const charts = await google.colab.kernel.invokeFunction(\n",
              "                'suggestCharts', [key], {});\n",
              "          } catch (error) {\n",
              "            console.error('Error during call to suggestCharts:', error);\n",
              "          }\n",
              "          quickchartButtonEl.classList.remove('colab-df-spinner');\n",
              "          quickchartButtonEl.classList.add('colab-df-quickchart-complete');\n",
              "        }\n",
              "        (() => {\n",
              "          let quickchartButtonEl =\n",
              "            document.querySelector('#df-a14c76d8-1600-4824-8a54-1925d3f75acf button');\n",
              "          quickchartButtonEl.style.display =\n",
              "            google.colab.kernel.accessAllowed ? 'block' : 'none';\n",
              "        })();\n",
              "      </script>\n",
              "    </div>\n",
              "\n",
              "    </div>\n",
              "  </div>\n"
            ],
            "application/vnd.google.colaboratory.intrinsic+json": {
              "type": "dataframe",
              "variable_name": "df"
            }
          },
          "metadata": {},
          "execution_count": 77
        }
      ]
    },
    {
      "cell_type": "code",
      "source": [
        "df.shape"
      ],
      "metadata": {
        "colab": {
          "base_uri": "https://localhost:8080/"
        },
        "id": "wrSmfYfF3ilJ",
        "outputId": "0cf9e5fd-529f-4fa5-dc41-b778ae4a8086"
      },
      "execution_count": 78,
      "outputs": [
        {
          "output_type": "execute_result",
          "data": {
            "text/plain": [
              "(13028, 68)"
            ]
          },
          "metadata": {},
          "execution_count": 78
        }
      ]
    },
    {
      "cell_type": "code",
      "source": [
        "df.columns"
      ],
      "metadata": {
        "colab": {
          "base_uri": "https://localhost:8080/"
        },
        "id": "JMUAxnxM45Fy",
        "outputId": "c8b07739-6953-4860-a2fc-cb940dd81ee1"
      },
      "execution_count": 79,
      "outputs": [
        {
          "output_type": "execute_result",
          "data": {
            "text/plain": [
              "Index(['Kingdom', 'DNAtype', 'Ncodons', 'SpeciesName', 'UUU', 'UUC', 'UUA',\n",
              "       'UUG', 'CUU', 'CUC', 'CUA', 'CUG', 'AUU', 'AUC', 'AUA', 'AUG', 'GUU',\n",
              "       'GUC', 'GUA', 'GUG', 'GCU', 'GCC', 'GCA', 'GCG', 'CCU', 'CCC', 'CCA',\n",
              "       'CCG', 'UGG', 'GGU', 'GGC', 'GGA', 'GGG', 'UCU', 'UCC', 'UCA', 'UCG',\n",
              "       'AGU', 'AGC', 'ACU', 'ACC', 'ACA', 'ACG', 'UAU', 'UAC', 'CAA', 'CAG',\n",
              "       'AAU', 'AAC', 'UGU', 'UGC', 'CAU', 'CAC', 'AAA', 'AAG', 'CGU', 'CGC',\n",
              "       'CGA', 'CGG', 'AGA', 'AGG', 'GAU', 'GAC', 'GAA', 'GAG', 'UAA', 'UAG',\n",
              "       'UGA'],\n",
              "      dtype='object')"
            ]
          },
          "metadata": {},
          "execution_count": 79
        }
      ]
    },
    {
      "cell_type": "code",
      "source": [
        "df.isnull().any().sum()"
      ],
      "metadata": {
        "colab": {
          "base_uri": "https://localhost:8080/"
        },
        "id": "Ycw_qwOR-F_8",
        "outputId": "ebaa0c5c-6a3f-4454-b560-5516ef2ad8ae"
      },
      "execution_count": 80,
      "outputs": [
        {
          "output_type": "execute_result",
          "data": {
            "text/plain": [
              "np.int64(0)"
            ]
          },
          "metadata": {},
          "execution_count": 80
        }
      ]
    },
    {
      "cell_type": "code",
      "source": [
        "from xgboost import XGBClassifier\n",
        "from lightgbm import LGBMClassifier\n",
        "from sklearn.model_selection import train_test_split, GridSearchCV\n",
        "from sklearn.feature_selection import mutual_info_classif\n",
        "from sklearn.tree import DecisionTreeClassifier\n",
        "from sklearn.ensemble import RandomForestClassifier, GradientBoostingClassifier\n",
        "from sklearn.metrics import accuracy_score, f1_score, precision_score, recall_score, roc_auc_score, confusion_matrix\n",
        "from sklearn.preprocessing import StandardScaler, OrdinalEncoder, OneHotEncoder, LabelEncoder\n",
        "from sklearn.pipeline import Pipeline\n",
        "from sklearn.compose import ColumnTransformer\n",
        "from imblearn.over_sampling import SMOTE"
      ],
      "metadata": {
        "id": "iDH_AKFCdvZm"
      },
      "execution_count": 81,
      "outputs": []
    },
    {
      "cell_type": "code",
      "source": [
        "features = ['DNAtype', 'Ncodons', 'UUU', 'UUC', 'UUA',\n",
        "       'UUG', 'CUU', 'CUC', 'CUA', 'CUG', 'AUU', 'AUC', 'AUA', 'AUG', 'GUU',\n",
        "       'GUC', 'GUA', 'GUG', 'GCU', 'GCC', 'GCA', 'GCG', 'CCU', 'CCC', 'CCA',\n",
        "       'CCG', 'UGG', 'GGU', 'GGC', 'GGA', 'GGG', 'UCU', 'UCC', 'UCA', 'UCG',\n",
        "       'AGU', 'AGC', 'ACU', 'ACC', 'ACA', 'ACG', 'UAU', 'UAC', 'CAA', 'CAG',\n",
        "       'AAU', 'AAC', 'UGU', 'UGC', 'CAU', 'CAC', 'AAA', 'AAG', 'CGU', 'CGC',\n",
        "       'CGA', 'CGG', 'AGA', 'AGG', 'GAU', 'GAC', 'GAA', 'GAG', 'UAA', 'UAG',\n",
        "       'UGA']\n",
        "mi_features = ['DNAtype', 'Ncodons', 'UUU', 'UUC']\n",
        "target = 'Kingdom'\n",
        "X = df[features]\n",
        "y = df[target]\n",
        "smote = SMOTE(random_state=42)\n",
        "train_X, val_X, train_y, val_y = train_test_split(X, y, random_state=42, stratify=y, test_size=0.2)"
      ],
      "metadata": {
        "id": "ZcQkyNadfnhM"
      },
      "execution_count": 82,
      "outputs": []
    },
    {
      "cell_type": "code",
      "source": [
        "for col in X:\n",
        "  if X[col].dtype == 'object':\n",
        "    print(col)"
      ],
      "metadata": {
        "colab": {
          "base_uri": "https://localhost:8080/"
        },
        "id": "cg9ehN4h1oF_",
        "outputId": "2f0acf21-99c3-427d-c569-f0358478c36f"
      },
      "execution_count": 83,
      "outputs": [
        {
          "output_type": "stream",
          "name": "stdout",
          "text": [
            "UUU\n",
            "UUC\n"
          ]
        }
      ]
    },
    {
      "cell_type": "code",
      "source": [
        "for col in X.columns:\n",
        "    if X[col].dtype == 'object':\n",
        "        # Find rows with non-numeric values\n",
        "        non_numeric = X[col][~X[col].apply(lambda x: str(x).replace(';', '').isdigit())]\n",
        "        if not non_numeric.empty:\n",
        "            print(f\"Column '{col}' has non-numeric values:\")\n",
        "            print(non_numeric.unique())"
      ],
      "metadata": {
        "colab": {
          "base_uri": "https://localhost:8080/"
        },
        "id": "YYVY5JioZacD",
        "outputId": "4ba9ff42-e46d-48a6-cac8-f7fb840c42a7"
      },
      "execution_count": 84,
      "outputs": [
        {
          "output_type": "stream",
          "name": "stdout",
          "text": [
            "Column 'UUU' has non-numeric values:\n",
            "['0.01654' '0.02714' '0.01974' ... 0.0138 0.01757 0.01778]\n",
            "Column 'UUC' has non-numeric values:\n",
            "['0.01203' '0.01357' '0.0218' ... 0.02591 0.03446 0.03555]\n"
          ]
        }
      ]
    },
    {
      "cell_type": "code",
      "source": [
        "# Convert object-type codons to numeric if possible\n",
        "X['UUU'] = pd.to_numeric(X['UUU'], errors='coerce')  # 'coerce' turns invalid strings to NaNs\n",
        "X['UUC'] = pd.to_numeric(X['UUC'], errors='coerce')  # 'coerce' turns invalid strings to NaNs"
      ],
      "metadata": {
        "id": "HywmkIkE7SPg"
      },
      "execution_count": 85,
      "outputs": []
    },
    {
      "cell_type": "code",
      "source": [
        "print(\"train_X dtypes:\", train_X.dtypes)\n",
        "print(\"val_X dtypes:\", val_X.dtypes)"
      ],
      "metadata": {
        "colab": {
          "base_uri": "https://localhost:8080/"
        },
        "id": "aDgqrQigagrj",
        "outputId": "9ef818bf-4837-4e65-f6b1-a05855f6a761"
      },
      "execution_count": 86,
      "outputs": [
        {
          "output_type": "stream",
          "name": "stdout",
          "text": [
            "train_X dtypes: DNAtype      int64\n",
            "Ncodons      int64\n",
            "UUU         object\n",
            "UUC         object\n",
            "UUA        float64\n",
            "            ...   \n",
            "GAA        float64\n",
            "GAG        float64\n",
            "UAA        float64\n",
            "UAG        float64\n",
            "UGA        float64\n",
            "Length: 66, dtype: object\n",
            "val_X dtypes: DNAtype      int64\n",
            "Ncodons      int64\n",
            "UUU         object\n",
            "UUC         object\n",
            "UUA        float64\n",
            "            ...   \n",
            "GAA        float64\n",
            "GAG        float64\n",
            "UAA        float64\n",
            "UAG        float64\n",
            "UGA        float64\n",
            "Length: 66, dtype: object\n"
          ]
        }
      ]
    },
    {
      "cell_type": "code",
      "source": [
        "print(X['UUU'].describe())\n",
        "print(X['UUC'].describe())"
      ],
      "metadata": {
        "colab": {
          "base_uri": "https://localhost:8080/"
        },
        "id": "F2o_E34E_MSH",
        "outputId": "8c0c07a6-6276-4ed9-f4da-0cce851e0a41"
      },
      "execution_count": 87,
      "outputs": [
        {
          "output_type": "stream",
          "name": "stdout",
          "text": [
            "count    13026.000000\n",
            "mean         0.024818\n",
            "std          0.017628\n",
            "min          0.000000\n",
            "25%          0.013910\n",
            "50%          0.021750\n",
            "75%          0.031308\n",
            "max          0.217300\n",
            "Name: UUU, dtype: float64\n",
            "count    13027.000000\n",
            "mean         0.023442\n",
            "std          0.011599\n",
            "min          0.000000\n",
            "25%          0.015380\n",
            "50%          0.021910\n",
            "75%          0.029215\n",
            "max          0.091690\n",
            "Name: UUC, dtype: float64\n"
          ]
        }
      ]
    },
    {
      "cell_type": "code",
      "source": [
        "columns_to_fill = ['UUU', 'UUC']\n",
        "for col in columns_to_fill:\n",
        "    X[col].fillna(X[col].mean(), inplace=True)"
      ],
      "metadata": {
        "id": "P-bujFFr-0YN"
      },
      "execution_count": 88,
      "outputs": []
    },
    {
      "cell_type": "code",
      "source": [
        "copy_X = X.copy()\n",
        "copy_y = y.copy()\n",
        "for col in copy_X.select_dtypes('float'):\n",
        "    copy_X[col] = copy_X[col].round().astype(int)\n",
        "for char in copy_X.select_dtypes('object'):\n",
        "  copy_X.loc[:, char], _ = copy_X[char].factorize()\n",
        "discrete_values = copy_X.dtypes == int\n",
        "copy_y, _ = pd.factorize(y)\n",
        "\n",
        "def make_mi_score(copy_X, copy_y, discrete_values):\n",
        "    mi_scores = mutual_info_classif(copy_X, copy_y, discrete_features=discrete_values)\n",
        "    mi_scores = pd.Series(mi_scores, name='MI SCORES', index=copy_X.columns)\n",
        "    mi_scores = mi_scores.sort_values(ascending=False)\n",
        "    return mi_scores\n",
        "\n",
        "mi_scores = make_mi_score(copy_X, copy_y, discrete_values)\n",
        "mi_scores[:7]"
      ],
      "metadata": {
        "colab": {
          "base_uri": "https://localhost:8080/",
          "height": 304
        },
        "id": "s7ORnertgoDF",
        "outputId": "4683a403-6511-4b9b-f82d-2dba53a48228"
      },
      "execution_count": 89,
      "outputs": [
        {
          "output_type": "execute_result",
          "data": {
            "text/plain": [
              "Ncodons    1.384182\n",
              "DNAtype    0.403521\n",
              "UUU        0.000000\n",
              "UUC        0.000000\n",
              "UUA        0.000000\n",
              "UUG        0.000000\n",
              "CUU        0.000000\n",
              "Name: MI SCORES, dtype: float64"
            ],
            "text/html": [
              "<div>\n",
              "<style scoped>\n",
              "    .dataframe tbody tr th:only-of-type {\n",
              "        vertical-align: middle;\n",
              "    }\n",
              "\n",
              "    .dataframe tbody tr th {\n",
              "        vertical-align: top;\n",
              "    }\n",
              "\n",
              "    .dataframe thead th {\n",
              "        text-align: right;\n",
              "    }\n",
              "</style>\n",
              "<table border=\"1\" class=\"dataframe\">\n",
              "  <thead>\n",
              "    <tr style=\"text-align: right;\">\n",
              "      <th></th>\n",
              "      <th>MI SCORES</th>\n",
              "    </tr>\n",
              "  </thead>\n",
              "  <tbody>\n",
              "    <tr>\n",
              "      <th>Ncodons</th>\n",
              "      <td>1.384182</td>\n",
              "    </tr>\n",
              "    <tr>\n",
              "      <th>DNAtype</th>\n",
              "      <td>0.403521</td>\n",
              "    </tr>\n",
              "    <tr>\n",
              "      <th>UUU</th>\n",
              "      <td>0.000000</td>\n",
              "    </tr>\n",
              "    <tr>\n",
              "      <th>UUC</th>\n",
              "      <td>0.000000</td>\n",
              "    </tr>\n",
              "    <tr>\n",
              "      <th>UUA</th>\n",
              "      <td>0.000000</td>\n",
              "    </tr>\n",
              "    <tr>\n",
              "      <th>UUG</th>\n",
              "      <td>0.000000</td>\n",
              "    </tr>\n",
              "    <tr>\n",
              "      <th>CUU</th>\n",
              "      <td>0.000000</td>\n",
              "    </tr>\n",
              "  </tbody>\n",
              "</table>\n",
              "</div><br><label><b>dtype:</b> float64</label>"
            ]
          },
          "metadata": {},
          "execution_count": 89
        }
      ]
    },
    {
      "cell_type": "code",
      "source": [
        "y.value_counts(normalize=True)"
      ],
      "metadata": {
        "colab": {
          "base_uri": "https://localhost:8080/",
          "height": 460
        },
        "id": "Dy5WIhmVrVve",
        "outputId": "35854cd4-8fb6-4e56-a779-9a029beecbd0"
      },
      "execution_count": 90,
      "outputs": [
        {
          "output_type": "execute_result",
          "data": {
            "text/plain": [
              "Kingdom\n",
              "bct    0.224133\n",
              "vrl    0.217378\n",
              "pln    0.193660\n",
              "vrt    0.159426\n",
              "inv    0.103239\n",
              "mam    0.043905\n",
              "phg    0.016887\n",
              "rod    0.016503\n",
              "pri    0.013816\n",
              "arc    0.009671\n",
              "plm    0.001382\n",
              "Name: proportion, dtype: float64"
            ],
            "text/html": [
              "<div>\n",
              "<style scoped>\n",
              "    .dataframe tbody tr th:only-of-type {\n",
              "        vertical-align: middle;\n",
              "    }\n",
              "\n",
              "    .dataframe tbody tr th {\n",
              "        vertical-align: top;\n",
              "    }\n",
              "\n",
              "    .dataframe thead th {\n",
              "        text-align: right;\n",
              "    }\n",
              "</style>\n",
              "<table border=\"1\" class=\"dataframe\">\n",
              "  <thead>\n",
              "    <tr style=\"text-align: right;\">\n",
              "      <th></th>\n",
              "      <th>proportion</th>\n",
              "    </tr>\n",
              "    <tr>\n",
              "      <th>Kingdom</th>\n",
              "      <th></th>\n",
              "    </tr>\n",
              "  </thead>\n",
              "  <tbody>\n",
              "    <tr>\n",
              "      <th>bct</th>\n",
              "      <td>0.224133</td>\n",
              "    </tr>\n",
              "    <tr>\n",
              "      <th>vrl</th>\n",
              "      <td>0.217378</td>\n",
              "    </tr>\n",
              "    <tr>\n",
              "      <th>pln</th>\n",
              "      <td>0.193660</td>\n",
              "    </tr>\n",
              "    <tr>\n",
              "      <th>vrt</th>\n",
              "      <td>0.159426</td>\n",
              "    </tr>\n",
              "    <tr>\n",
              "      <th>inv</th>\n",
              "      <td>0.103239</td>\n",
              "    </tr>\n",
              "    <tr>\n",
              "      <th>mam</th>\n",
              "      <td>0.043905</td>\n",
              "    </tr>\n",
              "    <tr>\n",
              "      <th>phg</th>\n",
              "      <td>0.016887</td>\n",
              "    </tr>\n",
              "    <tr>\n",
              "      <th>rod</th>\n",
              "      <td>0.016503</td>\n",
              "    </tr>\n",
              "    <tr>\n",
              "      <th>pri</th>\n",
              "      <td>0.013816</td>\n",
              "    </tr>\n",
              "    <tr>\n",
              "      <th>arc</th>\n",
              "      <td>0.009671</td>\n",
              "    </tr>\n",
              "    <tr>\n",
              "      <th>plm</th>\n",
              "      <td>0.001382</td>\n",
              "    </tr>\n",
              "  </tbody>\n",
              "</table>\n",
              "</div><br><label><b>dtype:</b> float64</label>"
            ]
          },
          "metadata": {},
          "execution_count": 90
        }
      ]
    },
    {
      "cell_type": "code",
      "source": [
        "X_resampled, y_resampled = smote.fit_resample(X, y)\n",
        "X_train, X_val, y_train, y_val = train_test_split(X_resampled, y_resampled, random_state=42, stratify=y_resampled, test_size=0.2)"
      ],
      "metadata": {
        "id": "G7LS_qxKDM4l"
      },
      "execution_count": 91,
      "outputs": []
    }
  ]
}