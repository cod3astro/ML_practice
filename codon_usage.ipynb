{
  "nbformat": 4,
  "nbformat_minor": 0,
  "metadata": {
    "colab": {
      "provenance": [],
      "authorship_tag": "ABX9TyMGLew0Zx9pzinZjVMW4An3",
      "include_colab_link": true
    },
    "kernelspec": {
      "name": "python3",
      "display_name": "Python 3"
    },
    "language_info": {
      "name": "python"
    }
  },
  "cells": [
    {
      "cell_type": "markdown",
      "metadata": {
        "id": "view-in-github",
        "colab_type": "text"
      },
      "source": [
        "<a href=\"https://colab.research.google.com/github/cod3astro/ML_practice/blob/main/codon_usage.ipynb\" target=\"_parent\"><img src=\"https://colab.research.google.com/assets/colab-badge.svg\" alt=\"Open In Colab\"/></a>"
      ]
    },
    {
      "cell_type": "code",
      "execution_count": 1,
      "metadata": {
        "id": "L9EbUHrG2sQh"
      },
      "outputs": [],
      "source": [
        "import pandas as pd\n",
        "import numpy as np\n",
        "import matplotlib.pyplot as plt\n",
        "import seaborn as sns\n",
        "import joblib"
      ]
    },
    {
      "cell_type": "code",
      "source": [
        "df = pd.read_csv('codon_usage.csv', index_col='SpeciesID')\n",
        "df.drop_duplicates(inplace=True)\n",
        "df.head()"
      ],
      "metadata": {
        "colab": {
          "base_uri": "https://localhost:8080/",
          "height": 426
        },
        "id": "y9QWhqdF3H7Y",
        "outputId": "234c9c3e-c677-4fcf-e601-10048e41f823"
      },
      "execution_count": 2,
      "outputs": [
        {
          "output_type": "stream",
          "name": "stderr",
          "text": [
            "/tmp/ipython-input-2-2076267449.py:1: DtypeWarning: Columns (5,6) have mixed types. Specify dtype option on import or set low_memory=False.\n",
            "  df = pd.read_csv('codon_usage.csv', index_col='SpeciesID')\n"
          ]
        },
        {
          "output_type": "execute_result",
          "data": {
            "text/plain": [
              "          Kingdom  DNAtype  Ncodons                              SpeciesName  \\\n",
              "SpeciesID                                                                      \n",
              "100217        vrl        0     1995  Epizootic haematopoietic necrosis virus   \n",
              "100220        vrl        0     1474                         Bohle iridovirus   \n",
              "100755        vrl        0     4862             Sweet potato leaf curl virus   \n",
              "100880        vrl        0     1915             Northern cereal mosaic virus   \n",
              "100887        vrl        0    22831           Soil-borne cereal mosaic virus   \n",
              "\n",
              "               UUU      UUC      UUA      UUG      CUU      CUC  ...      CGG  \\\n",
              "SpeciesID                                                        ...            \n",
              "100217     0.01654  0.01203  0.00050  0.00351  0.01203  0.03208  ...  0.00451   \n",
              "100220     0.02714  0.01357  0.00068  0.00678  0.00407  0.02849  ...  0.00136   \n",
              "100755     0.01974   0.0218  0.01357  0.01543  0.00782  0.01111  ...  0.00596   \n",
              "100880     0.01775  0.02245  0.01619  0.00992  0.01567  0.01358  ...  0.00366   \n",
              "100887     0.02816  0.01371  0.00767  0.03679  0.01380  0.00548  ...  0.00604   \n",
              "\n",
              "               AGA      AGG      GAU      GAC      GAA      GAG      UAA  \\\n",
              "SpeciesID                                                                  \n",
              "100217     0.01303  0.03559  0.01003  0.04612  0.01203  0.04361  0.00251   \n",
              "100220     0.01696  0.03596  0.01221  0.04545  0.01560  0.04410  0.00271   \n",
              "100755     0.01974  0.02489  0.03126  0.02036  0.02242  0.02468  0.00391   \n",
              "100880     0.01410  0.01671  0.03760  0.01932  0.03029  0.03446  0.00261   \n",
              "100887     0.01494  0.01734  0.04148  0.02483  0.03359  0.03679  0.00000   \n",
              "\n",
              "               UAG      UGA  \n",
              "SpeciesID                    \n",
              "100217     0.00050  0.00000  \n",
              "100220     0.00068  0.00000  \n",
              "100755     0.00000  0.00144  \n",
              "100880     0.00157  0.00000  \n",
              "100887     0.00044  0.00131  \n",
              "\n",
              "[5 rows x 68 columns]"
            ],
            "text/html": [
              "\n",
              "  <div id=\"df-13b6eeb1-b3dd-4e96-8096-e8beb055bde4\" class=\"colab-df-container\">\n",
              "    <div>\n",
              "<style scoped>\n",
              "    .dataframe tbody tr th:only-of-type {\n",
              "        vertical-align: middle;\n",
              "    }\n",
              "\n",
              "    .dataframe tbody tr th {\n",
              "        vertical-align: top;\n",
              "    }\n",
              "\n",
              "    .dataframe thead th {\n",
              "        text-align: right;\n",
              "    }\n",
              "</style>\n",
              "<table border=\"1\" class=\"dataframe\">\n",
              "  <thead>\n",
              "    <tr style=\"text-align: right;\">\n",
              "      <th></th>\n",
              "      <th>Kingdom</th>\n",
              "      <th>DNAtype</th>\n",
              "      <th>Ncodons</th>\n",
              "      <th>SpeciesName</th>\n",
              "      <th>UUU</th>\n",
              "      <th>UUC</th>\n",
              "      <th>UUA</th>\n",
              "      <th>UUG</th>\n",
              "      <th>CUU</th>\n",
              "      <th>CUC</th>\n",
              "      <th>...</th>\n",
              "      <th>CGG</th>\n",
              "      <th>AGA</th>\n",
              "      <th>AGG</th>\n",
              "      <th>GAU</th>\n",
              "      <th>GAC</th>\n",
              "      <th>GAA</th>\n",
              "      <th>GAG</th>\n",
              "      <th>UAA</th>\n",
              "      <th>UAG</th>\n",
              "      <th>UGA</th>\n",
              "    </tr>\n",
              "    <tr>\n",
              "      <th>SpeciesID</th>\n",
              "      <th></th>\n",
              "      <th></th>\n",
              "      <th></th>\n",
              "      <th></th>\n",
              "      <th></th>\n",
              "      <th></th>\n",
              "      <th></th>\n",
              "      <th></th>\n",
              "      <th></th>\n",
              "      <th></th>\n",
              "      <th></th>\n",
              "      <th></th>\n",
              "      <th></th>\n",
              "      <th></th>\n",
              "      <th></th>\n",
              "      <th></th>\n",
              "      <th></th>\n",
              "      <th></th>\n",
              "      <th></th>\n",
              "      <th></th>\n",
              "      <th></th>\n",
              "    </tr>\n",
              "  </thead>\n",
              "  <tbody>\n",
              "    <tr>\n",
              "      <th>100217</th>\n",
              "      <td>vrl</td>\n",
              "      <td>0</td>\n",
              "      <td>1995</td>\n",
              "      <td>Epizootic haematopoietic necrosis virus</td>\n",
              "      <td>0.01654</td>\n",
              "      <td>0.01203</td>\n",
              "      <td>0.00050</td>\n",
              "      <td>0.00351</td>\n",
              "      <td>0.01203</td>\n",
              "      <td>0.03208</td>\n",
              "      <td>...</td>\n",
              "      <td>0.00451</td>\n",
              "      <td>0.01303</td>\n",
              "      <td>0.03559</td>\n",
              "      <td>0.01003</td>\n",
              "      <td>0.04612</td>\n",
              "      <td>0.01203</td>\n",
              "      <td>0.04361</td>\n",
              "      <td>0.00251</td>\n",
              "      <td>0.00050</td>\n",
              "      <td>0.00000</td>\n",
              "    </tr>\n",
              "    <tr>\n",
              "      <th>100220</th>\n",
              "      <td>vrl</td>\n",
              "      <td>0</td>\n",
              "      <td>1474</td>\n",
              "      <td>Bohle iridovirus</td>\n",
              "      <td>0.02714</td>\n",
              "      <td>0.01357</td>\n",
              "      <td>0.00068</td>\n",
              "      <td>0.00678</td>\n",
              "      <td>0.00407</td>\n",
              "      <td>0.02849</td>\n",
              "      <td>...</td>\n",
              "      <td>0.00136</td>\n",
              "      <td>0.01696</td>\n",
              "      <td>0.03596</td>\n",
              "      <td>0.01221</td>\n",
              "      <td>0.04545</td>\n",
              "      <td>0.01560</td>\n",
              "      <td>0.04410</td>\n",
              "      <td>0.00271</td>\n",
              "      <td>0.00068</td>\n",
              "      <td>0.00000</td>\n",
              "    </tr>\n",
              "    <tr>\n",
              "      <th>100755</th>\n",
              "      <td>vrl</td>\n",
              "      <td>0</td>\n",
              "      <td>4862</td>\n",
              "      <td>Sweet potato leaf curl virus</td>\n",
              "      <td>0.01974</td>\n",
              "      <td>0.0218</td>\n",
              "      <td>0.01357</td>\n",
              "      <td>0.01543</td>\n",
              "      <td>0.00782</td>\n",
              "      <td>0.01111</td>\n",
              "      <td>...</td>\n",
              "      <td>0.00596</td>\n",
              "      <td>0.01974</td>\n",
              "      <td>0.02489</td>\n",
              "      <td>0.03126</td>\n",
              "      <td>0.02036</td>\n",
              "      <td>0.02242</td>\n",
              "      <td>0.02468</td>\n",
              "      <td>0.00391</td>\n",
              "      <td>0.00000</td>\n",
              "      <td>0.00144</td>\n",
              "    </tr>\n",
              "    <tr>\n",
              "      <th>100880</th>\n",
              "      <td>vrl</td>\n",
              "      <td>0</td>\n",
              "      <td>1915</td>\n",
              "      <td>Northern cereal mosaic virus</td>\n",
              "      <td>0.01775</td>\n",
              "      <td>0.02245</td>\n",
              "      <td>0.01619</td>\n",
              "      <td>0.00992</td>\n",
              "      <td>0.01567</td>\n",
              "      <td>0.01358</td>\n",
              "      <td>...</td>\n",
              "      <td>0.00366</td>\n",
              "      <td>0.01410</td>\n",
              "      <td>0.01671</td>\n",
              "      <td>0.03760</td>\n",
              "      <td>0.01932</td>\n",
              "      <td>0.03029</td>\n",
              "      <td>0.03446</td>\n",
              "      <td>0.00261</td>\n",
              "      <td>0.00157</td>\n",
              "      <td>0.00000</td>\n",
              "    </tr>\n",
              "    <tr>\n",
              "      <th>100887</th>\n",
              "      <td>vrl</td>\n",
              "      <td>0</td>\n",
              "      <td>22831</td>\n",
              "      <td>Soil-borne cereal mosaic virus</td>\n",
              "      <td>0.02816</td>\n",
              "      <td>0.01371</td>\n",
              "      <td>0.00767</td>\n",
              "      <td>0.03679</td>\n",
              "      <td>0.01380</td>\n",
              "      <td>0.00548</td>\n",
              "      <td>...</td>\n",
              "      <td>0.00604</td>\n",
              "      <td>0.01494</td>\n",
              "      <td>0.01734</td>\n",
              "      <td>0.04148</td>\n",
              "      <td>0.02483</td>\n",
              "      <td>0.03359</td>\n",
              "      <td>0.03679</td>\n",
              "      <td>0.00000</td>\n",
              "      <td>0.00044</td>\n",
              "      <td>0.00131</td>\n",
              "    </tr>\n",
              "  </tbody>\n",
              "</table>\n",
              "<p>5 rows × 68 columns</p>\n",
              "</div>\n",
              "    <div class=\"colab-df-buttons\">\n",
              "\n",
              "  <div class=\"colab-df-container\">\n",
              "    <button class=\"colab-df-convert\" onclick=\"convertToInteractive('df-13b6eeb1-b3dd-4e96-8096-e8beb055bde4')\"\n",
              "            title=\"Convert this dataframe to an interactive table.\"\n",
              "            style=\"display:none;\">\n",
              "\n",
              "  <svg xmlns=\"http://www.w3.org/2000/svg\" height=\"24px\" viewBox=\"0 -960 960 960\">\n",
              "    <path d=\"M120-120v-720h720v720H120Zm60-500h600v-160H180v160Zm220 220h160v-160H400v160Zm0 220h160v-160H400v160ZM180-400h160v-160H180v160Zm440 0h160v-160H620v160ZM180-180h160v-160H180v160Zm440 0h160v-160H620v160Z\"/>\n",
              "  </svg>\n",
              "    </button>\n",
              "\n",
              "  <style>\n",
              "    .colab-df-container {\n",
              "      display:flex;\n",
              "      gap: 12px;\n",
              "    }\n",
              "\n",
              "    .colab-df-convert {\n",
              "      background-color: #E8F0FE;\n",
              "      border: none;\n",
              "      border-radius: 50%;\n",
              "      cursor: pointer;\n",
              "      display: none;\n",
              "      fill: #1967D2;\n",
              "      height: 32px;\n",
              "      padding: 0 0 0 0;\n",
              "      width: 32px;\n",
              "    }\n",
              "\n",
              "    .colab-df-convert:hover {\n",
              "      background-color: #E2EBFA;\n",
              "      box-shadow: 0px 1px 2px rgba(60, 64, 67, 0.3), 0px 1px 3px 1px rgba(60, 64, 67, 0.15);\n",
              "      fill: #174EA6;\n",
              "    }\n",
              "\n",
              "    .colab-df-buttons div {\n",
              "      margin-bottom: 4px;\n",
              "    }\n",
              "\n",
              "    [theme=dark] .colab-df-convert {\n",
              "      background-color: #3B4455;\n",
              "      fill: #D2E3FC;\n",
              "    }\n",
              "\n",
              "    [theme=dark] .colab-df-convert:hover {\n",
              "      background-color: #434B5C;\n",
              "      box-shadow: 0px 1px 3px 1px rgba(0, 0, 0, 0.15);\n",
              "      filter: drop-shadow(0px 1px 2px rgba(0, 0, 0, 0.3));\n",
              "      fill: #FFFFFF;\n",
              "    }\n",
              "  </style>\n",
              "\n",
              "    <script>\n",
              "      const buttonEl =\n",
              "        document.querySelector('#df-13b6eeb1-b3dd-4e96-8096-e8beb055bde4 button.colab-df-convert');\n",
              "      buttonEl.style.display =\n",
              "        google.colab.kernel.accessAllowed ? 'block' : 'none';\n",
              "\n",
              "      async function convertToInteractive(key) {\n",
              "        const element = document.querySelector('#df-13b6eeb1-b3dd-4e96-8096-e8beb055bde4');\n",
              "        const dataTable =\n",
              "          await google.colab.kernel.invokeFunction('convertToInteractive',\n",
              "                                                    [key], {});\n",
              "        if (!dataTable) return;\n",
              "\n",
              "        const docLinkHtml = 'Like what you see? Visit the ' +\n",
              "          '<a target=\"_blank\" href=https://colab.research.google.com/notebooks/data_table.ipynb>data table notebook</a>'\n",
              "          + ' to learn more about interactive tables.';\n",
              "        element.innerHTML = '';\n",
              "        dataTable['output_type'] = 'display_data';\n",
              "        await google.colab.output.renderOutput(dataTable, element);\n",
              "        const docLink = document.createElement('div');\n",
              "        docLink.innerHTML = docLinkHtml;\n",
              "        element.appendChild(docLink);\n",
              "      }\n",
              "    </script>\n",
              "  </div>\n",
              "\n",
              "\n",
              "    <div id=\"df-7d1cbd24-820c-4caf-96dd-3927e7b31f57\">\n",
              "      <button class=\"colab-df-quickchart\" onclick=\"quickchart('df-7d1cbd24-820c-4caf-96dd-3927e7b31f57')\"\n",
              "                title=\"Suggest charts\"\n",
              "                style=\"display:none;\">\n",
              "\n",
              "<svg xmlns=\"http://www.w3.org/2000/svg\" height=\"24px\"viewBox=\"0 0 24 24\"\n",
              "     width=\"24px\">\n",
              "    <g>\n",
              "        <path d=\"M19 3H5c-1.1 0-2 .9-2 2v14c0 1.1.9 2 2 2h14c1.1 0 2-.9 2-2V5c0-1.1-.9-2-2-2zM9 17H7v-7h2v7zm4 0h-2V7h2v10zm4 0h-2v-4h2v4z\"/>\n",
              "    </g>\n",
              "</svg>\n",
              "      </button>\n",
              "\n",
              "<style>\n",
              "  .colab-df-quickchart {\n",
              "      --bg-color: #E8F0FE;\n",
              "      --fill-color: #1967D2;\n",
              "      --hover-bg-color: #E2EBFA;\n",
              "      --hover-fill-color: #174EA6;\n",
              "      --disabled-fill-color: #AAA;\n",
              "      --disabled-bg-color: #DDD;\n",
              "  }\n",
              "\n",
              "  [theme=dark] .colab-df-quickchart {\n",
              "      --bg-color: #3B4455;\n",
              "      --fill-color: #D2E3FC;\n",
              "      --hover-bg-color: #434B5C;\n",
              "      --hover-fill-color: #FFFFFF;\n",
              "      --disabled-bg-color: #3B4455;\n",
              "      --disabled-fill-color: #666;\n",
              "  }\n",
              "\n",
              "  .colab-df-quickchart {\n",
              "    background-color: var(--bg-color);\n",
              "    border: none;\n",
              "    border-radius: 50%;\n",
              "    cursor: pointer;\n",
              "    display: none;\n",
              "    fill: var(--fill-color);\n",
              "    height: 32px;\n",
              "    padding: 0;\n",
              "    width: 32px;\n",
              "  }\n",
              "\n",
              "  .colab-df-quickchart:hover {\n",
              "    background-color: var(--hover-bg-color);\n",
              "    box-shadow: 0 1px 2px rgba(60, 64, 67, 0.3), 0 1px 3px 1px rgba(60, 64, 67, 0.15);\n",
              "    fill: var(--button-hover-fill-color);\n",
              "  }\n",
              "\n",
              "  .colab-df-quickchart-complete:disabled,\n",
              "  .colab-df-quickchart-complete:disabled:hover {\n",
              "    background-color: var(--disabled-bg-color);\n",
              "    fill: var(--disabled-fill-color);\n",
              "    box-shadow: none;\n",
              "  }\n",
              "\n",
              "  .colab-df-spinner {\n",
              "    border: 2px solid var(--fill-color);\n",
              "    border-color: transparent;\n",
              "    border-bottom-color: var(--fill-color);\n",
              "    animation:\n",
              "      spin 1s steps(1) infinite;\n",
              "  }\n",
              "\n",
              "  @keyframes spin {\n",
              "    0% {\n",
              "      border-color: transparent;\n",
              "      border-bottom-color: var(--fill-color);\n",
              "      border-left-color: var(--fill-color);\n",
              "    }\n",
              "    20% {\n",
              "      border-color: transparent;\n",
              "      border-left-color: var(--fill-color);\n",
              "      border-top-color: var(--fill-color);\n",
              "    }\n",
              "    30% {\n",
              "      border-color: transparent;\n",
              "      border-left-color: var(--fill-color);\n",
              "      border-top-color: var(--fill-color);\n",
              "      border-right-color: var(--fill-color);\n",
              "    }\n",
              "    40% {\n",
              "      border-color: transparent;\n",
              "      border-right-color: var(--fill-color);\n",
              "      border-top-color: var(--fill-color);\n",
              "    }\n",
              "    60% {\n",
              "      border-color: transparent;\n",
              "      border-right-color: var(--fill-color);\n",
              "    }\n",
              "    80% {\n",
              "      border-color: transparent;\n",
              "      border-right-color: var(--fill-color);\n",
              "      border-bottom-color: var(--fill-color);\n",
              "    }\n",
              "    90% {\n",
              "      border-color: transparent;\n",
              "      border-bottom-color: var(--fill-color);\n",
              "    }\n",
              "  }\n",
              "</style>\n",
              "\n",
              "      <script>\n",
              "        async function quickchart(key) {\n",
              "          const quickchartButtonEl =\n",
              "            document.querySelector('#' + key + ' button');\n",
              "          quickchartButtonEl.disabled = true;  // To prevent multiple clicks.\n",
              "          quickchartButtonEl.classList.add('colab-df-spinner');\n",
              "          try {\n",
              "            const charts = await google.colab.kernel.invokeFunction(\n",
              "                'suggestCharts', [key], {});\n",
              "          } catch (error) {\n",
              "            console.error('Error during call to suggestCharts:', error);\n",
              "          }\n",
              "          quickchartButtonEl.classList.remove('colab-df-spinner');\n",
              "          quickchartButtonEl.classList.add('colab-df-quickchart-complete');\n",
              "        }\n",
              "        (() => {\n",
              "          let quickchartButtonEl =\n",
              "            document.querySelector('#df-7d1cbd24-820c-4caf-96dd-3927e7b31f57 button');\n",
              "          quickchartButtonEl.style.display =\n",
              "            google.colab.kernel.accessAllowed ? 'block' : 'none';\n",
              "        })();\n",
              "      </script>\n",
              "    </div>\n",
              "\n",
              "    </div>\n",
              "  </div>\n"
            ],
            "application/vnd.google.colaboratory.intrinsic+json": {
              "type": "dataframe",
              "variable_name": "df"
            }
          },
          "metadata": {},
          "execution_count": 2
        }
      ]
    },
    {
      "cell_type": "code",
      "source": [
        "df.shape"
      ],
      "metadata": {
        "colab": {
          "base_uri": "https://localhost:8080/"
        },
        "id": "wrSmfYfF3ilJ",
        "outputId": "e5d87e16-cdc4-4488-d4c3-49f80988b6ef"
      },
      "execution_count": 3,
      "outputs": [
        {
          "output_type": "execute_result",
          "data": {
            "text/plain": [
              "(13028, 68)"
            ]
          },
          "metadata": {},
          "execution_count": 3
        }
      ]
    },
    {
      "cell_type": "code",
      "source": [
        "df.columns"
      ],
      "metadata": {
        "colab": {
          "base_uri": "https://localhost:8080/"
        },
        "id": "JMUAxnxM45Fy",
        "outputId": "961657d9-fa03-4f4b-e89c-20956ecf561d"
      },
      "execution_count": 4,
      "outputs": [
        {
          "output_type": "execute_result",
          "data": {
            "text/plain": [
              "Index(['Kingdom', 'DNAtype', 'Ncodons', 'SpeciesName', 'UUU', 'UUC', 'UUA',\n",
              "       'UUG', 'CUU', 'CUC', 'CUA', 'CUG', 'AUU', 'AUC', 'AUA', 'AUG', 'GUU',\n",
              "       'GUC', 'GUA', 'GUG', 'GCU', 'GCC', 'GCA', 'GCG', 'CCU', 'CCC', 'CCA',\n",
              "       'CCG', 'UGG', 'GGU', 'GGC', 'GGA', 'GGG', 'UCU', 'UCC', 'UCA', 'UCG',\n",
              "       'AGU', 'AGC', 'ACU', 'ACC', 'ACA', 'ACG', 'UAU', 'UAC', 'CAA', 'CAG',\n",
              "       'AAU', 'AAC', 'UGU', 'UGC', 'CAU', 'CAC', 'AAA', 'AAG', 'CGU', 'CGC',\n",
              "       'CGA', 'CGG', 'AGA', 'AGG', 'GAU', 'GAC', 'GAA', 'GAG', 'UAA', 'UAG',\n",
              "       'UGA'],\n",
              "      dtype='object')"
            ]
          },
          "metadata": {},
          "execution_count": 4
        }
      ]
    },
    {
      "cell_type": "code",
      "source": [
        "df.isnull().any().sum()"
      ],
      "metadata": {
        "colab": {
          "base_uri": "https://localhost:8080/"
        },
        "id": "Ycw_qwOR-F_8",
        "outputId": "cacbdb7c-617e-40a6-dfca-2dff08009499"
      },
      "execution_count": 5,
      "outputs": [
        {
          "output_type": "execute_result",
          "data": {
            "text/plain": [
              "np.int64(0)"
            ]
          },
          "metadata": {},
          "execution_count": 5
        }
      ]
    },
    {
      "cell_type": "code",
      "source": [
        "from xgboost import XGBClassifier\n",
        "from lightgbm import LGBMClassifier\n",
        "from sklearn.model_selection import train_test_split, GridSearchCV, cross_val_score\n",
        "from sklearn.feature_selection import mutual_info_classif\n",
        "from sklearn.tree import DecisionTreeClassifier\n",
        "from sklearn.ensemble import RandomForestClassifier, GradientBoostingClassifier\n",
        "from sklearn.metrics import accuracy_score, f1_score, precision_score, recall_score, roc_auc_score, confusion_matrix\n",
        "from sklearn.preprocessing import StandardScaler, OrdinalEncoder, OneHotEncoder, LabelEncoder\n",
        "from sklearn.pipeline import Pipeline\n",
        "from sklearn.compose import ColumnTransformer\n",
        "from sklearn.base import BaseEstimator, TransformerMixin\n",
        "from sklearn.impute import SimpleImputer\n",
        "from imblearn.over_sampling import SMOTE"
      ],
      "metadata": {
        "id": "iDH_AKFCdvZm"
      },
      "execution_count": 6,
      "outputs": []
    },
    {
      "cell_type": "code",
      "source": [
        "features = ['DNAtype', 'UUA',\n",
        "       'UUG', 'CUU', 'CUC', 'CUA', 'CUG', 'AUU', 'AUC', 'AUA', 'AUG', 'GUU',\n",
        "       'GUC', 'GUA', 'GUG', 'GCU', 'GCC', 'GCA', 'GCG', 'CCU', 'CCC', 'CCA',\n",
        "       'CCG', 'UGG', 'GGU', 'GGC', 'GGA', 'GGG', 'UCU', 'UCC', 'UCA', 'UCG',\n",
        "       'AGU', 'AGC', 'ACU', 'ACC', 'ACA', 'ACG', 'UAU', 'UAC', 'CAA', 'CAG',\n",
        "       'AAU', 'AAC', 'UGU', 'UGC', 'CAU', 'CAC', 'AAA', 'AAG', 'CGU', 'CGC',\n",
        "       'CGA', 'CGG', 'AGA', 'AGG', 'GAU', 'GAC', 'GAA', 'GAG', 'UAA', 'UAG',\n",
        "       'UGA']\n",
        "mi_features = ['DNAtype', 'Ncodons', 'UUU', 'UUC']\n",
        "target = 'Kingdom'\n",
        "X = df[features]\n",
        "y = df[target]\n",
        "smote = SMOTE(random_state=42)\n",
        "train_X, val_X, train_y, val_y = train_test_split(X, y, random_state=42, stratify=y, test_size=0.2)"
      ],
      "metadata": {
        "id": "ZcQkyNadfnhM"
      },
      "execution_count": 7,
      "outputs": []
    },
    {
      "cell_type": "code",
      "source": [
        "Features = ['DNAtype', 'Ncodons', 'SpeciesName', 'UUU', 'UUC', 'UUA',\n",
        "       'UUG', 'CUU', 'CUC', 'CUA', 'CUG', 'AUU', 'AUC', 'AUA', 'AUG', 'GUU',\n",
        "       'GUC', 'GUA', 'GUG', 'GCU', 'GCC', 'GCA', 'GCG', 'CCU', 'CCC', 'CCA',\n",
        "       'CCG', 'UGG', 'GGU', 'GGC', 'GGA', 'GGG', 'UCU', 'UCC', 'UCA', 'UCG',\n",
        "       'AGU', 'AGC', 'ACU', 'ACC', 'ACA', 'ACG', 'UAU', 'UAC', 'CAA', 'CAG',\n",
        "       'AAU', 'AAC', 'UGU', 'UGC', 'CAU', 'CAC', 'AAA', 'AAG', 'CGU', 'CGC',\n",
        "       'CGA', 'CGG', 'AGA', 'AGG', 'GAU', 'GAC', 'GAA', 'GAG', 'UAA', 'UAG',\n",
        "       'UGA']\n",
        "Target = 'Kingdom'\n",
        "a = df[Features]\n",
        "b = df[Target]\n",
        "train_a, val_a, train_b, val_b = train_test_split(a, b, random_state=42, stratify=b, test_size=0.2)"
      ],
      "metadata": {
        "id": "owfwGEg3LUwf"
      },
      "execution_count": 8,
      "outputs": []
    },
    {
      "cell_type": "code",
      "source": [
        "for col in X:\n",
        "  if X[col].dtype == 'object':\n",
        "    print(col)"
      ],
      "metadata": {
        "id": "cg9ehN4h1oF_"
      },
      "execution_count": 9,
      "outputs": []
    },
    {
      "cell_type": "code",
      "source": [
        "for col in X.columns:\n",
        "    if X[col].dtype == 'object':\n",
        "        # Find rows with non-numeric values\n",
        "        non_numeric = X[col][~X[col].apply(lambda x: str(x).replace(';', '').isdigit())]\n",
        "        if not non_numeric.empty:\n",
        "            print(f\"Column '{col}' has non-numeric values:\")\n",
        "            print(non_numeric.unique())"
      ],
      "metadata": {
        "id": "YYVY5JioZacD"
      },
      "execution_count": 10,
      "outputs": []
    },
    {
      "cell_type": "code",
      "source": [
        "for col in X.columns:\n",
        "    # Check if any value is a string that can't convert to float\n",
        "    non_float = []\n",
        "    for val in X[col]:\n",
        "        try:\n",
        "            float(val)\n",
        "        except (ValueError, TypeError):\n",
        "            non_float.append(val)\n",
        "\n",
        "    if non_float:\n",
        "        print(f\"Column '{col}' has non-float values:\")\n",
        "        print(pd.Series(non_float).unique())"
      ],
      "metadata": {
        "id": "iM-UQnRcecsW"
      },
      "execution_count": 11,
      "outputs": []
    },
    {
      "cell_type": "code",
      "source": [
        "print(\"train_X dtypes:\", train_X.dtypes)\n",
        "print(\"val_X dtypes:\", val_X.dtypes)"
      ],
      "metadata": {
        "colab": {
          "base_uri": "https://localhost:8080/"
        },
        "id": "aDgqrQigagrj",
        "outputId": "2380e67d-c7f6-4cce-f366-2eb50165469c"
      },
      "execution_count": 12,
      "outputs": [
        {
          "output_type": "stream",
          "name": "stdout",
          "text": [
            "train_X dtypes: DNAtype      int64\n",
            "UUA        float64\n",
            "UUG        float64\n",
            "CUU        float64\n",
            "CUC        float64\n",
            "            ...   \n",
            "GAA        float64\n",
            "GAG        float64\n",
            "UAA        float64\n",
            "UAG        float64\n",
            "UGA        float64\n",
            "Length: 63, dtype: object\n",
            "val_X dtypes: DNAtype      int64\n",
            "UUA        float64\n",
            "UUG        float64\n",
            "CUU        float64\n",
            "CUC        float64\n",
            "            ...   \n",
            "GAA        float64\n",
            "GAG        float64\n",
            "UAA        float64\n",
            "UAG        float64\n",
            "UGA        float64\n",
            "Length: 63, dtype: object\n"
          ]
        }
      ]
    },
    {
      "cell_type": "code",
      "source": [
        "copy_X = X.copy()\n",
        "copy_y = y.copy()\n",
        "for col in copy_X.select_dtypes('float'):\n",
        "    copy_X[col] = copy_X[col].round().astype(int)\n",
        "for char in copy_X.select_dtypes('object'):\n",
        "  copy_X.loc[:, char], _ = copy_X[char].factorize()\n",
        "discrete_values = copy_X.dtypes == int\n",
        "copy_y, _ = pd.factorize(y)\n",
        "\n",
        "def make_mi_score(copy_X, copy_y, discrete_values):\n",
        "    mi_scores = mutual_info_classif(copy_X, copy_y, discrete_features=discrete_values)\n",
        "    mi_scores = pd.Series(mi_scores, name='MI SCORES', index=copy_X.columns)\n",
        "    mi_scores = mi_scores.sort_values(ascending=False)\n",
        "    return mi_scores\n",
        "\n",
        "mi_scores = make_mi_score(copy_X, copy_y, discrete_values)\n",
        "mi_scores[:7]"
      ],
      "metadata": {
        "colab": {
          "base_uri": "https://localhost:8080/",
          "height": 304
        },
        "id": "s7ORnertgoDF",
        "outputId": "7b0061bc-46a3-48e5-8ca7-0c3748a7a183"
      },
      "execution_count": 13,
      "outputs": [
        {
          "output_type": "execute_result",
          "data": {
            "text/plain": [
              "DNAtype    0.403521\n",
              "UUA        0.000000\n",
              "UUG        0.000000\n",
              "CUU        0.000000\n",
              "CUC        0.000000\n",
              "CUA        0.000000\n",
              "CUG        0.000000\n",
              "Name: MI SCORES, dtype: float64"
            ],
            "text/html": [
              "<div>\n",
              "<style scoped>\n",
              "    .dataframe tbody tr th:only-of-type {\n",
              "        vertical-align: middle;\n",
              "    }\n",
              "\n",
              "    .dataframe tbody tr th {\n",
              "        vertical-align: top;\n",
              "    }\n",
              "\n",
              "    .dataframe thead th {\n",
              "        text-align: right;\n",
              "    }\n",
              "</style>\n",
              "<table border=\"1\" class=\"dataframe\">\n",
              "  <thead>\n",
              "    <tr style=\"text-align: right;\">\n",
              "      <th></th>\n",
              "      <th>MI SCORES</th>\n",
              "    </tr>\n",
              "  </thead>\n",
              "  <tbody>\n",
              "    <tr>\n",
              "      <th>DNAtype</th>\n",
              "      <td>0.403521</td>\n",
              "    </tr>\n",
              "    <tr>\n",
              "      <th>UUA</th>\n",
              "      <td>0.000000</td>\n",
              "    </tr>\n",
              "    <tr>\n",
              "      <th>UUG</th>\n",
              "      <td>0.000000</td>\n",
              "    </tr>\n",
              "    <tr>\n",
              "      <th>CUU</th>\n",
              "      <td>0.000000</td>\n",
              "    </tr>\n",
              "    <tr>\n",
              "      <th>CUC</th>\n",
              "      <td>0.000000</td>\n",
              "    </tr>\n",
              "    <tr>\n",
              "      <th>CUA</th>\n",
              "      <td>0.000000</td>\n",
              "    </tr>\n",
              "    <tr>\n",
              "      <th>CUG</th>\n",
              "      <td>0.000000</td>\n",
              "    </tr>\n",
              "  </tbody>\n",
              "</table>\n",
              "</div><br><label><b>dtype:</b> float64</label>"
            ]
          },
          "metadata": {},
          "execution_count": 13
        }
      ]
    },
    {
      "cell_type": "code",
      "source": [
        "y.value_counts(normalize=True)"
      ],
      "metadata": {
        "colab": {
          "base_uri": "https://localhost:8080/",
          "height": 460
        },
        "id": "Dy5WIhmVrVve",
        "outputId": "2399ed6f-66f9-4c84-ae70-69b698263fd5"
      },
      "execution_count": 14,
      "outputs": [
        {
          "output_type": "execute_result",
          "data": {
            "text/plain": [
              "Kingdom\n",
              "bct    0.224133\n",
              "vrl    0.217378\n",
              "pln    0.193660\n",
              "vrt    0.159426\n",
              "inv    0.103239\n",
              "mam    0.043905\n",
              "phg    0.016887\n",
              "rod    0.016503\n",
              "pri    0.013816\n",
              "arc    0.009671\n",
              "plm    0.001382\n",
              "Name: proportion, dtype: float64"
            ],
            "text/html": [
              "<div>\n",
              "<style scoped>\n",
              "    .dataframe tbody tr th:only-of-type {\n",
              "        vertical-align: middle;\n",
              "    }\n",
              "\n",
              "    .dataframe tbody tr th {\n",
              "        vertical-align: top;\n",
              "    }\n",
              "\n",
              "    .dataframe thead th {\n",
              "        text-align: right;\n",
              "    }\n",
              "</style>\n",
              "<table border=\"1\" class=\"dataframe\">\n",
              "  <thead>\n",
              "    <tr style=\"text-align: right;\">\n",
              "      <th></th>\n",
              "      <th>proportion</th>\n",
              "    </tr>\n",
              "    <tr>\n",
              "      <th>Kingdom</th>\n",
              "      <th></th>\n",
              "    </tr>\n",
              "  </thead>\n",
              "  <tbody>\n",
              "    <tr>\n",
              "      <th>bct</th>\n",
              "      <td>0.224133</td>\n",
              "    </tr>\n",
              "    <tr>\n",
              "      <th>vrl</th>\n",
              "      <td>0.217378</td>\n",
              "    </tr>\n",
              "    <tr>\n",
              "      <th>pln</th>\n",
              "      <td>0.193660</td>\n",
              "    </tr>\n",
              "    <tr>\n",
              "      <th>vrt</th>\n",
              "      <td>0.159426</td>\n",
              "    </tr>\n",
              "    <tr>\n",
              "      <th>inv</th>\n",
              "      <td>0.103239</td>\n",
              "    </tr>\n",
              "    <tr>\n",
              "      <th>mam</th>\n",
              "      <td>0.043905</td>\n",
              "    </tr>\n",
              "    <tr>\n",
              "      <th>phg</th>\n",
              "      <td>0.016887</td>\n",
              "    </tr>\n",
              "    <tr>\n",
              "      <th>rod</th>\n",
              "      <td>0.016503</td>\n",
              "    </tr>\n",
              "    <tr>\n",
              "      <th>pri</th>\n",
              "      <td>0.013816</td>\n",
              "    </tr>\n",
              "    <tr>\n",
              "      <th>arc</th>\n",
              "      <td>0.009671</td>\n",
              "    </tr>\n",
              "    <tr>\n",
              "      <th>plm</th>\n",
              "      <td>0.001382</td>\n",
              "    </tr>\n",
              "  </tbody>\n",
              "</table>\n",
              "</div><br><label><b>dtype:</b> float64</label>"
            ]
          },
          "metadata": {},
          "execution_count": 14
        }
      ]
    },
    {
      "cell_type": "code",
      "source": [
        "X_resampled, y_resampled = smote.fit_resample(X, y)\n",
        "X_train, X_val, y_train, y_val = train_test_split(X_resampled, y_resampled, random_state=42, stratify=y_resampled, test_size=0.2)"
      ],
      "metadata": {
        "id": "G7LS_qxKDM4l"
      },
      "execution_count": 15,
      "outputs": []
    },
    {
      "cell_type": "code",
      "source": [
        "model = Pipeline([\n",
        "    ('model', XGBClassifier(random_state=42, eval_metric='mlogloss', n_estimators=300, max_depth=6, learning_rate=0.14))\n",
        "])\n",
        "label_encoder = LabelEncoder()\n",
        "train_y_encoded = label_encoder.fit_transform(train_y)\n",
        "val_y_encoded = label_encoder.transform(val_y)\n",
        "\n",
        "model.fit(train_X, train_y_encoded)\n",
        "xgb_train_preds_encoded = model.predict(val_X)\n",
        "xgb_train_preds = label_encoder.inverse_transform(xgb_train_preds_encoded)\n",
        "accuracy_score(val_y, xgb_train_preds)"
      ],
      "metadata": {
        "colab": {
          "base_uri": "https://localhost:8080/"
        },
        "id": "CkNpeHV07gvQ",
        "outputId": "d37787c3-c870-4a1f-f344-a994f4c6933d"
      },
      "execution_count": 26,
      "outputs": [
        {
          "output_type": "execute_result",
          "data": {
            "text/plain": [
              "0.930928626247122"
            ]
          },
          "metadata": {},
          "execution_count": 26
        }
      ]
    },
    {
      "cell_type": "code",
      "source": [
        "model = Pipeline([\n",
        "    ('model', XGBClassifier(random_state=42, eval_metric='mlogloss', n_estimators=300, max_depth=7, learning_rate=0.13))\n",
        "])\n",
        "label_encoder = LabelEncoder()\n",
        "y_train_encoded = label_encoder.fit_transform(y_train)\n",
        "y_val_encoded = label_encoder.transform(y_val)\n",
        "\n",
        "model.fit(X_train, y_train_encoded)\n",
        "xgb_train_preds_encoded = model.predict(X_val)\n",
        "xgb_train_preds = label_encoder.inverse_transform(xgb_train_preds_encoded)\n",
        "print(\"Accuracy:\", accuracy_score(y_val, xgb_train_preds))\n",
        "print(\"Precision:\", precision_score(y_val, xgb_train_preds, average='macro'))\n",
        "print(\"Recall:\", recall_score(y_val, xgb_train_preds, average='macro'))\n",
        "print(\"F1 Score:\", f1_score(y_val, xgb_train_preds, average='macro'))\n",
        "print(\"Confusion Matrix:\\n\", confusion_matrix(y_val, xgb_train_preds))"
      ],
      "metadata": {
        "colab": {
          "base_uri": "https://localhost:8080/"
        },
        "id": "jnq7F-u2_O97",
        "outputId": "869fb63b-a97d-45df-8df6-87a70a70e594"
      },
      "execution_count": 17,
      "outputs": [
        {
          "output_type": "stream",
          "name": "stdout",
          "text": [
            "Accuracy: 0.9834993773349938\n",
            "Precision: 0.9835438942196021\n",
            "Recall: 0.9834993773349939\n",
            "F1 Score: 0.9834660372409999\n",
            "Confusion Matrix:\n",
            " [[584   0   0   0   0   0   0   0   0   0   0]\n",
            " [  7 553   5   0  11   1   4   0   0   3   0]\n",
            " [  0   1 566   0   0   0   9   0   0   5   3]\n",
            " [  0   0   0 583   0   0   0   1   0   0   0]\n",
            " [  0   0   0   0 584   0   0   0   0   0   0]\n",
            " [  0   0   0   0   0 584   0   0   0   0   0]\n",
            " [  0   7   8   0   0   0 562   0   0   7   0]\n",
            " [  0   0   0   0   0   0   0 583   1   0   0]\n",
            " [  0   0   1   1   0   0   0   0 582   0   0]\n",
            " [  1   1   8   0   1   0   7   0   0 566   0]\n",
            " [  0   1   5   2   0   0   0   2   0   3 571]]\n"
          ]
        }
      ]
    },
    {
      "cell_type": "code",
      "source": [
        "model = Pipeline([\n",
        "    ('model', RandomForestClassifier(random_state=42, class_weight='balanced', n_estimators=300, max_depth=30))\n",
        "])\n",
        "label_encoder = LabelEncoder()\n",
        "train_y_encoded = label_encoder.fit_transform(train_y)\n",
        "val_y_encoded = label_encoder.transform(val_y)\n",
        "\n",
        "model.fit(train_X, train_y_encoded)\n",
        "rf_train_preds_encoded = model.predict(val_X)\n",
        "rf_train_preds = label_encoder.inverse_transform(rf_train_preds_encoded)\n",
        "accuracy_score(val_y, rf_train_preds)"
      ],
      "metadata": {
        "colab": {
          "base_uri": "https://localhost:8080/"
        },
        "id": "UCZvbKFuJNtx",
        "outputId": "9b6b8298-2ec7-4559-da00-85b1011f04c2"
      },
      "execution_count": 18,
      "outputs": [
        {
          "output_type": "execute_result",
          "data": {
            "text/plain": [
              "0.9071373752877974"
            ]
          },
          "metadata": {},
          "execution_count": 18
        }
      ]
    },
    {
      "cell_type": "code",
      "source": [
        "model = Pipeline([\n",
        "    ('model', RandomForestClassifier(random_state=42, n_estimators=300, max_depth=20))\n",
        "])\n",
        "label_encoder = LabelEncoder()\n",
        "y_train_encoded = label_encoder.fit_transform(y_train)\n",
        "y_val_encoded = label_encoder.transform(y_val)\n",
        "\n",
        "model.fit(X_train, y_train_encoded)\n",
        "rf_train_preds_encoded = model.predict(X_val)\n",
        "rf_train_preds = label_encoder.inverse_transform(rf_train_preds_encoded)\n",
        "accuracy_score(y_val, rf_train_preds)"
      ],
      "metadata": {
        "colab": {
          "base_uri": "https://localhost:8080/"
        },
        "id": "j3EPOewuKTSA",
        "outputId": "85d36c21-e8f9-457d-e967-0fca5e0d20e1"
      },
      "execution_count": 19,
      "outputs": [
        {
          "output_type": "execute_result",
          "data": {
            "text/plain": [
              "0.9796077210460772"
            ]
          },
          "metadata": {},
          "execution_count": 19
        }
      ]
    },
    {
      "cell_type": "code",
      "source": [
        "scores = cross_val_score(\n",
        "    RandomForestClassifier(),\n",
        "    X[['DNAtype']].apply(lambda x: pd.factorize(x)[0]),  # Convert to numeric\n",
        "    y,\n",
        "    cv=5\n",
        ")\n",
        "print(f\"Accuracy using only DNAtype: {scores.mean():.2f}\")"
      ],
      "metadata": {
        "colab": {
          "base_uri": "https://localhost:8080/"
        },
        "id": "uGdA8FYPRufc",
        "outputId": "4530ed87-dc84-44eb-daf1-28bcf9b4146b"
      },
      "execution_count": 20,
      "outputs": [
        {
          "output_type": "stream",
          "name": "stdout",
          "text": [
            "Accuracy using only DNAtype: 0.41\n"
          ]
        }
      ]
    },
    {
      "cell_type": "code",
      "source": [
        "class TargetEncoderWrapper:\n",
        "    def __init__(self, pipeline, encoder):\n",
        "        self.pipeline = pipeline\n",
        "        self.encoder = encoder\n",
        "\n",
        "    def predict(self, X):\n",
        "        encoded = self.pipeline.predict(X)\n",
        "        return self.encoder.inverse_transform(encoded)\n",
        "\n",
        "def validate_data(X, numeric_features, one_hot_features, ordinal_features):\n",
        "    #Enhanced validation that considers dynamic features\n",
        "    errors = []\n",
        "\n",
        "    # Check for null values in specified features\n",
        "    all_features = numeric_features + one_hot_features + ordinal_features\n",
        "    if all_features:  # Only check if features are specified\n",
        "        null_cols = X[all_features].isnull().any()\n",
        "        if null_cols.any():\n",
        "            errors.append(f\"Null values found in columns: {null_cols[null_cols].index.tolist()}\")\n",
        "\n",
        "    # Check for empty strings in categorical features\n",
        "    cat_features = one_hot_features + ordinal_features\n",
        "    if cat_features:\n",
        "        empty_str_cols = [\n",
        "            col for col in cat_features\n",
        "            if col in X.columns and X[col].astype(str).str.strip().eq('').any()\n",
        "        ]\n",
        "        if empty_str_cols:\n",
        "            errors.append(f\"Empty strings found in columns: {empty_str_cols}\")\n",
        "\n",
        "    # Check numeric features contain valid values\n",
        "    for col in numeric_features:\n",
        "        if col in X.columns:\n",
        "            if not pd.api.types.is_numeric_dtype(X[col]):\n",
        "                errors.append(f\"Non-numeric values found in numeric column: {col}\")\n",
        "\n",
        "    if errors:\n",
        "        raise ValueError(\"Validation failed:\\n- \" + \"\\n- \".join(errors))\n",
        "\n",
        "    return True\n",
        "\n",
        "class DataCleaner(BaseEstimator, TransformerMixin):\n",
        "    def __init__(self, columns_to_drop=None, rename_columns=None, index_col=None,\n",
        "                 numeric_features=None, ordinal_features=None, one_hot_features=None):\n",
        "        self.columns_to_drop = columns_to_drop or []\n",
        "        self.rename_columns = rename_columns or {}\n",
        "        self.index_col = index_col\n",
        "        self.numeric_features = numeric_features or []\n",
        "        self.ordinal_features = ordinal_features or []\n",
        "        self.one_hot_features = one_hot_features or []\n",
        "\n",
        "    def fit(self, X, y=None):\n",
        "        # Only calculate statistics for features that exist\n",
        "        if self.numeric_features:\n",
        "            existing_num = [col for col in self.numeric_features if col in X.columns]\n",
        "            self.num_means_ = X[existing_num].mean() if existing_num else pd.Series()\n",
        "\n",
        "        cat_features = self.one_hot_features + self.ordinal_features\n",
        "        if cat_features:\n",
        "            existing_cat = [col for col in cat_features if col in X.columns]\n",
        "            self.cat_modes_ = X[existing_cat].mode().iloc[0] if existing_cat else pd.Series()\n",
        "\n",
        "        return self\n",
        "\n",
        "    def transform(self, X):\n",
        "        X_clean = X.copy()\n",
        "\n",
        "        # Validate before any transformations\n",
        "        validate_data(\n",
        "            X_clean,\n",
        "            numeric_features=self.numeric_features,\n",
        "            one_hot_features=self.one_hot_features,\n",
        "            ordinal_features=self.ordinal_features\n",
        "        )\n",
        "\n",
        "        # Set index if specified\n",
        "        if self.index_col and self.index_col in X_clean.columns:\n",
        "            X_clean = X_clean.set_index(self.index_col)\n",
        "\n",
        "        # Drop columns\n",
        "        existing_drops = [col for col in self.columns_to_drop if col in X_clean.columns]\n",
        "        X_clean = X_clean.drop(columns=existing_drops, errors='ignore')\n",
        "\n",
        "        # Rename columns\n",
        "        existing_renames = {old: new for old, new in self.rename_columns.items()\n",
        "                          if old in X_clean.columns}\n",
        "        X_clean = X_clean.rename(columns=existing_renames)\n",
        "\n",
        "        # Fill NA values\n",
        "        if hasattr(self, 'num_means_') and not self.num_means_.empty:\n",
        "            num_cols = [col for col in self.numeric_features\n",
        "                       if col in X_clean.columns and col in self.num_means_.index]\n",
        "            X_clean[num_cols] = X_clean[num_cols].fillna(self.num_means_)\n",
        "\n",
        "        if hasattr(self, 'cat_modes_') and not self.cat_modes_.empty:\n",
        "            cat_cols = [col for col in (self.one_hot_features + self.ordinal_features)\n",
        "                       if col in X_clean.columns and col in self.cat_modes_.index]\n",
        "            X_clean[cat_cols] = X_clean[cat_cols].fillna(self.cat_modes_)\n",
        "\n",
        "        # Clean strings\n",
        "        str_cols = X_clean.select_dtypes(include=['object']).columns\n",
        "        for col in str_cols:\n",
        "            X_clean[col] = X_clean[col].astype(str).str.strip().str.lower()\n",
        "\n",
        "        return X_clean.drop_duplicates()\n",
        "\n",
        "def build_pipeline(numeric_features=None, one_hot_features=None, ordinal_features=None,\n",
        "                  columns_to_drop=None, rename_columns=None, index_col=None):\n",
        "\n",
        "    # Initialize feature lists\n",
        "    numeric_features = numeric_features or []\n",
        "    one_hot_features = one_hot_features or []\n",
        "    ordinal_features = ordinal_features or []\n",
        "\n",
        "    # Build transformers\n",
        "    transformers = []\n",
        "    if numeric_features:\n",
        "        transformers.append(('num', Pipeline([('scaler', StandardScaler())]), numeric_features))\n",
        "    if one_hot_features:\n",
        "        transformers.append(('cat', Pipeline([('onehot', OneHotEncoder(handle_unknown='ignore'))]), one_hot_features))\n",
        "    if ordinal_features:\n",
        "        transformers.append(('ord', Pipeline([('ordinal', OrdinalEncoder())]), ordinal_features))\n",
        "\n",
        "    preprocessor = ColumnTransformer(transformers=transformers) if transformers else None\n",
        "\n",
        "    steps = [\n",
        "        ('cleaner', DataCleaner(\n",
        "            columns_to_drop=columns_to_drop,\n",
        "            rename_columns=rename_columns,\n",
        "            index_col=index_col,\n",
        "            numeric_features=numeric_features,\n",
        "            one_hot_features=one_hot_features,\n",
        "            ordinal_features=ordinal_features\n",
        "        ))\n",
        "    ]\n",
        "\n",
        "    if preprocessor:\n",
        "        steps.append(('preprocessor', preprocessor))\n",
        "\n",
        "    steps.append(('classifier', XGBClassifier(\n",
        "        random_state=42,\n",
        "        n_estimators=300,\n",
        "        max_depth=7,\n",
        "        learning_rate=0.13,\n",
        "        use_label_encoder=False,\n",
        "        eval_metric='mlogloss'\n",
        "    )))\n",
        "\n",
        "    return Pipeline(steps)\n",
        "\n",
        "def train_and_save_model(X_train, y_train, save_path='model.joblib', **pipeline_args):\n",
        "    # Encode target\n",
        "    label_encoder = LabelEncoder()\n",
        "    y_encoded = label_encoder.fit_transform(y_train)\n",
        "\n",
        "    # Build and train pipeline\n",
        "    pipeline = build_pipeline(**pipeline_args)\n",
        "    pipeline.fit(X_train, y_encoded)\n",
        "\n",
        "    # Save both components\n",
        "    joblib.dump({\n",
        "        'pipeline': pipeline,\n",
        "        'label_encoder': label_encoder\n",
        "    }, save_path)\n",
        "\n",
        "    return pipeline, label_encoder\n",
        "\n",
        "def load_and_predict(model_path, new_data):\n",
        "    # Load components\n",
        "    model_data = joblib.load(model_path)\n",
        "    pipeline = model_data['pipeline']\n",
        "    label_encoder = model_data['label_encoder']\n",
        "\n",
        "    # Make predictions\n",
        "    encoded_preds = pipeline.predict(new_data)\n",
        "    return label_encoder.inverse_transform(encoded_preds)"
      ],
      "metadata": {
        "id": "cFjr5rL95BOx"
      },
      "execution_count": 30,
      "outputs": []
    },
    {
      "cell_type": "markdown",
      "source": [],
      "metadata": {
        "id": "EPu3WIMfjJi1"
      }
    },
    {
      "cell_type": "code",
      "source": [
        "print(f\"Train features shape: {train_a.shape}\")\n",
        "print(f\"Train labels shape: {train_b.shape}\")"
      ],
      "metadata": {
        "colab": {
          "base_uri": "https://localhost:8080/"
        },
        "id": "GTVy2vbyVF1z",
        "outputId": "4de81178-1b24-4510-807b-8c854bebb1f2"
      },
      "execution_count": 22,
      "outputs": [
        {
          "output_type": "stream",
          "name": "stdout",
          "text": [
            "Train features shape: (10422, 67)\n",
            "Train labels shape: (10422,)\n"
          ]
        }
      ]
    },
    {
      "cell_type": "code",
      "source": [
        "# Define the features after dropping the specified columns\n",
        "all_features = [col for col in df.columns if col not in ['Kingdom', 'SpeciesID', 'SpeciesName', 'UUU', 'UUC', 'Ncodons']]\n",
        "\n",
        "\n",
        "# 1. Build and train pipeline\n",
        "pipeline = build_pipeline(\n",
        "    numeric_features=[],\n",
        "    one_hot_features=[],\n",
        "    ordinal_features=[],\n",
        "    columns_to_drop=['SpeciesName', 'UUU', 'UUC', 'Ncodons'],\n",
        "    rename_columns={},\n",
        "    index_col='SpeciesID'\n",
        ")\n",
        "\n",
        "# Apply the cleaner to both training features and target\n",
        "cleaner = pipeline.named_steps['cleaner']\n",
        "\n",
        "print(\"Shape of train_a before cleaning:\", train_a.shape)\n",
        "print(\"Shape of train_b before cleaning:\", train_b.shape)\n",
        "\n",
        "train_a_cleaned, train_b_cleaned = cleaner.transform(train_a, train_b)\n",
        "\n",
        "print(\"Shape of train_a after cleaning:\", train_a_cleaned.shape)\n",
        "print(\"Shape of train_b after cleaning:\", train_b_cleaned.shape)\n",
        "\n",
        "# Encode the cleaned target variable\n",
        "label_encoder = LabelEncoder()\n",
        "train_b_encoded = label_encoder.fit_transform(train_b_cleaned)\n",
        "\n",
        "# Train with encoded target\n",
        "pipeline.fit(train_a_cleaned, train_b_encoded)\n",
        "\n",
        "# 3. Save both pipeline and encoder\n",
        "joblib.dump({\n",
        "    'pipeline': pipeline,\n",
        "    'label_encoder': label_encoder\n",
        "}, 'my_pipeline.joblib')"
      ],
      "metadata": {
        "colab": {
          "base_uri": "https://localhost:8080/",
          "height": 367
        },
        "id": "t651HfvqKdmL",
        "outputId": "1dda24a8-94ef-4a1d-b19b-ca7d2bbd62e2"
      },
      "execution_count": 33,
      "outputs": [
        {
          "output_type": "stream",
          "name": "stdout",
          "text": [
            "Shape of train_a before cleaning: (10422, 67)\n",
            "Shape of train_b before cleaning: (10422,)\n"
          ]
        },
        {
          "output_type": "error",
          "ename": "TypeError",
          "evalue": "DataCleaner.transform() takes 2 positional arguments but 3 were given",
          "traceback": [
            "\u001b[0;31m---------------------------------------------------------------------------\u001b[0m",
            "\u001b[0;31mTypeError\u001b[0m                                 Traceback (most recent call last)",
            "\u001b[0;32m/tmp/ipython-input-33-2223949596.py\u001b[0m in \u001b[0;36m<cell line: 0>\u001b[0;34m()\u001b[0m\n\u001b[1;32m     19\u001b[0m \u001b[0mprint\u001b[0m\u001b[0;34m(\u001b[0m\u001b[0;34m\"Shape of train_b before cleaning:\"\u001b[0m\u001b[0;34m,\u001b[0m \u001b[0mtrain_b\u001b[0m\u001b[0;34m.\u001b[0m\u001b[0mshape\u001b[0m\u001b[0;34m)\u001b[0m\u001b[0;34m\u001b[0m\u001b[0;34m\u001b[0m\u001b[0m\n\u001b[1;32m     20\u001b[0m \u001b[0;34m\u001b[0m\u001b[0m\n\u001b[0;32m---> 21\u001b[0;31m \u001b[0mtrain_a_cleaned\u001b[0m\u001b[0;34m,\u001b[0m \u001b[0mtrain_b_cleaned\u001b[0m \u001b[0;34m=\u001b[0m \u001b[0mcleaner\u001b[0m\u001b[0;34m.\u001b[0m\u001b[0mtransform\u001b[0m\u001b[0;34m(\u001b[0m\u001b[0mtrain_a\u001b[0m\u001b[0;34m,\u001b[0m \u001b[0mtrain_b\u001b[0m\u001b[0;34m)\u001b[0m\u001b[0;34m\u001b[0m\u001b[0;34m\u001b[0m\u001b[0m\n\u001b[0m\u001b[1;32m     22\u001b[0m \u001b[0;34m\u001b[0m\u001b[0m\n\u001b[1;32m     23\u001b[0m \u001b[0mprint\u001b[0m\u001b[0;34m(\u001b[0m\u001b[0;34m\"Shape of train_a after cleaning:\"\u001b[0m\u001b[0;34m,\u001b[0m \u001b[0mtrain_a_cleaned\u001b[0m\u001b[0;34m.\u001b[0m\u001b[0mshape\u001b[0m\u001b[0;34m)\u001b[0m\u001b[0;34m\u001b[0m\u001b[0;34m\u001b[0m\u001b[0m\n",
            "\u001b[0;32m/usr/local/lib/python3.11/dist-packages/sklearn/utils/_set_output.py\u001b[0m in \u001b[0;36mwrapped\u001b[0;34m(self, X, *args, **kwargs)\u001b[0m\n\u001b[1;32m    317\u001b[0m     \u001b[0;34m@\u001b[0m\u001b[0mwraps\u001b[0m\u001b[0;34m(\u001b[0m\u001b[0mf\u001b[0m\u001b[0;34m)\u001b[0m\u001b[0;34m\u001b[0m\u001b[0;34m\u001b[0m\u001b[0m\n\u001b[1;32m    318\u001b[0m     \u001b[0;32mdef\u001b[0m \u001b[0mwrapped\u001b[0m\u001b[0;34m(\u001b[0m\u001b[0mself\u001b[0m\u001b[0;34m,\u001b[0m \u001b[0mX\u001b[0m\u001b[0;34m,\u001b[0m \u001b[0;34m*\u001b[0m\u001b[0margs\u001b[0m\u001b[0;34m,\u001b[0m \u001b[0;34m**\u001b[0m\u001b[0mkwargs\u001b[0m\u001b[0;34m)\u001b[0m\u001b[0;34m:\u001b[0m\u001b[0;34m\u001b[0m\u001b[0;34m\u001b[0m\u001b[0m\n\u001b[0;32m--> 319\u001b[0;31m         \u001b[0mdata_to_wrap\u001b[0m \u001b[0;34m=\u001b[0m \u001b[0mf\u001b[0m\u001b[0;34m(\u001b[0m\u001b[0mself\u001b[0m\u001b[0;34m,\u001b[0m \u001b[0mX\u001b[0m\u001b[0;34m,\u001b[0m \u001b[0;34m*\u001b[0m\u001b[0margs\u001b[0m\u001b[0;34m,\u001b[0m \u001b[0;34m**\u001b[0m\u001b[0mkwargs\u001b[0m\u001b[0;34m)\u001b[0m\u001b[0;34m\u001b[0m\u001b[0;34m\u001b[0m\u001b[0m\n\u001b[0m\u001b[1;32m    320\u001b[0m         \u001b[0;32mif\u001b[0m \u001b[0misinstance\u001b[0m\u001b[0;34m(\u001b[0m\u001b[0mdata_to_wrap\u001b[0m\u001b[0;34m,\u001b[0m \u001b[0mtuple\u001b[0m\u001b[0;34m)\u001b[0m\u001b[0;34m:\u001b[0m\u001b[0;34m\u001b[0m\u001b[0;34m\u001b[0m\u001b[0m\n\u001b[1;32m    321\u001b[0m             \u001b[0;31m# only wrap the first output for cross decomposition\u001b[0m\u001b[0;34m\u001b[0m\u001b[0;34m\u001b[0m\u001b[0m\n",
            "\u001b[0;31mTypeError\u001b[0m: DataCleaner.transform() takes 2 positional arguments but 3 were given"
          ]
        }
      ]
    }
  ]
}